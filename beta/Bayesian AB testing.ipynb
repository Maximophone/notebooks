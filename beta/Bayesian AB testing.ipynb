{
 "cells": [
  {
   "cell_type": "markdown",
   "metadata": {},
   "source": [
    "# BAYESIAN AB TESTING"
   ]
  },
  {
   "cell_type": "code",
   "execution_count": 17,
   "metadata": {
    "collapsed": false
   },
   "outputs": [],
   "source": [
    "import warnings\n",
    "warnings.filterwarnings(\"ignore\")\n",
    "\n",
    "import math\n",
    "import scipy.stats\n",
    "import numpy as np\n",
    "import matplotlib.pyplot as plt\n",
    "import matplotlib.cm as cmap\n",
    "import seaborn\n",
    "%matplotlib inline"
   ]
  },
  {
   "cell_type": "code",
   "execution_count": 18,
   "metadata": {
    "collapsed": true
   },
   "outputs": [],
   "source": [
    "from ipywidgets import widgets\n",
    "from IPython.display import display\n",
    "from IPython.display import clear_output"
   ]
  },
  {
   "cell_type": "code",
   "execution_count": 468,
   "metadata": {
    "collapsed": true
   },
   "outputs": [],
   "source": [
    "def lbeta(a,b):\n",
    "    return math.lgamma(a) + math.lgamma(b) - math.lgamma(a+b)\n",
    "\n",
    "def prob_b_beats_a(alpha_a, beta_a, alpha_b, beta_b):\n",
    "    total = 0.\n",
    "    for i in range(int(round(alpha_b))):\n",
    "        total += math.exp(lbeta(alpha_a+i,beta_a+beta_b)\n",
    "                          - math.log(beta_b+i)\n",
    "                          - lbeta(i+1,beta_b)\n",
    "                          - lbeta(alpha_a,beta_a))\n",
    "    return total\n",
    "\n",
    "def prob_b_beats_a_approx(alpha_a,beta_a,alpha_b,beta_b):\n",
    "    alpha_a,alpha_b,beta_a,beta_b = float(alpha_a),float(alpha_b),float(beta_a),float(beta_b)\n",
    "    u_a = alpha_a / (alpha_a + beta_a)\n",
    "    u_b = alpha_b / (alpha_b + beta_b)\n",
    "    var_a = alpha_a * beta_a / ((alpha_a + beta_a)**2 * (alpha_a + beta_a + 1))\n",
    "    var_b = alpha_b * beta_b / ((alpha_b + beta_b)**2 * (alpha_b + beta_b + 1))\n",
    "    return 1-scipy.stats.norm(u_b - u_a, math.sqrt(var_a + var_b)).cdf(0)\n",
    "    \n",
    "\n",
    "def beta_distr(p,n,k):\n",
    "    assert n>=k, \"n must be greater or equal than k\"\n",
    "    if k==0 and n==0:\n",
    "            return 1.\n",
    "    if p==0:\n",
    "        if k>0:\n",
    "            return 0.\n",
    "        else:\n",
    "            return np.nan\n",
    "    if p==1:\n",
    "        if n-k>0:\n",
    "            return 0.\n",
    "        else:\n",
    "            return np.nan\n",
    "    return math.exp(k*math.log(p) + (n-k)*math.log(1-p) - lbeta(k+1,n-k+1))\n",
    "\n",
    "def alpha_beta_from_moments(m,v):\n",
    "    alpha = ((1-m)/v - 1/m)*m**2\n",
    "    beta = alpha*(1/m - 1)\n",
    "    return alpha,beta\n",
    "\n",
    "def moments_from_alpha_beta(alpha,beta):\n",
    "    alpha,beta=float(alpha),float(beta)\n",
    "    mean = alpha/(alpha+beta)\n",
    "    var = alpha*beta/((alpha+beta)**2*(alpha+beta+1))\n",
    "    return mean,var\n",
    "\n",
    "\n",
    "def joint_beta_distr(n1,k1,n2,k2):\n",
    "    def inner(x,y):\n",
    "        return beta_distr(x,n1,k1)*beta_distr(y,n2,k2)\n",
    "    return inner"
   ]
  },
  {
   "cell_type": "code",
   "execution_count": 530,
   "metadata": {
    "collapsed": true
   },
   "outputs": [],
   "source": [
    "def plot_beta_distr(s,impr_a,clicks_a,color='red',label='A',mean=None):\n",
    "\n",
    "    beta_distr_v = np.vectorize(lambda x: beta_distr(x,impr_a,clicks_a))\n",
    "    x = np.linspace(0,1,1000)\n",
    "    y = beta_distr_v(x)\n",
    "    s.plot(x,y,color=color,label=label)\n",
    "    \n",
    "    s.axes.xaxis.set_label_text('CTR')\n",
    "    s.axes.yaxis.set_label_text('Probability Density')\n",
    "    \n",
    "    if mean is not None:\n",
    "        s.vlines(mean,0,y.max(),color=color,linestyle='dashed')\n",
    "        text = s.text(mean,0,'mean',horizontalalignment='right',verticalalignment='bottom',fontsize=12,rotation=90,color=color)\n",
    "\n",
    "\n",
    "def plot_dual_distr(s,impr_a,clicks_a,impr_b,clicks_b):\n",
    "    \n",
    "    plot_beta_distr(s,impr_a,clicks_a)  \n",
    "    plot_beta_distr(s,impr_b,clicks_b,color='blue',label='B')\n",
    "    s.legend()\n",
    "\n",
    "def plot_joint_distr(s,impr_a,clicks_a,impr_b,clicks_b):\n",
    "    \n",
    "    x = np.linspace(0,1,100)\n",
    "    y = np.linspace(0,1,100)\n",
    "\n",
    "    fun = joint_beta_distr(impr_a,clicks_a,impr_b,clicks_b)\n",
    "\n",
    "    # filling the heatmap, value by value\n",
    "    fun_map = np.empty((x.size, y.size))\n",
    "    for i in range(x.size):\n",
    "        for j in range(y.size):\n",
    "            fun_map[i,j] = fun(x[i], y[j])\n",
    "            \n",
    "    s.grid(False)\n",
    "    im = s.imshow(\n",
    "        fun_map,\n",
    "        extent=(0, 1, 0, 1),\n",
    "        origin='lower',\n",
    "        cmap=cmap.Spectral_r)\n",
    "    \n",
    "    s.plot([0,1],[0,1])\n",
    "\n",
    "def plot_result(impressions_a,clicks_a,impressions_b,clicks_b):\n",
    "    \n",
    "    alpha_a = clicks_a + 1\n",
    "    beta_a = impressions_a - clicks_a + 1\n",
    "    alpha_b = clicks_b + 1\n",
    "    beta_b = impressions_b - clicks_b + 1\n",
    "    \n",
    "    fig = plt.figure(figsize=(20,6))\n",
    "    s1 = fig.add_subplot(1, 2, 1, title='Empirical Distributions for A and B') \n",
    "    plot_dual_distr(s1, impressions_a, clicks_a, impressions_b, clicks_b)\n",
    "\n",
    "    s2 = fig.add_subplot(1, 2, 2, title='Joint Distribution', xlabel='CTR B', ylabel='CTR A')\n",
    "    plot_joint_distr(s2,impressions_a,clicks_a,impressions_b,clicks_b)\n",
    "\n",
    "    plt.tight_layout()\n",
    "    plt.show()\n",
    "    \n",
    "    print \"There is a {:.0f}% chance that B beats A\".format(prob_b_beats_a(alpha_a,beta_a,alpha_b,beta_b)*100)\n",
    "\n",
    "def plot_prior(impr_a,clicks_a,mean_a):\n",
    "\n",
    "    fig = plt.figure(figsize=(20,2))\n",
    "    s1 = fig.add_subplot(1, 1, 1, title='Empirical Distribution of Prior Knowledge') \n",
    "    plot_beta_distr(s1, impr_a, clicks_a, mean=mean_a)\n",
    "    \n",
    "    plt.show()\n",
    "    \n",
    "\n",
    "def plot_all(mean_a,std_a,impr_a,clicks_a,impr_b,clicks_b):\n",
    "    \n",
    "    mean_a /= 100.\n",
    "    var_a = std_a/100.*mean_a*(1-mean_a)/3\n",
    "    \n",
    "    alpha_a,beta_a = alpha_beta_from_moments(mean_a,var_a)\n",
    "    \n",
    "    clicks_a_prior = max(0.,alpha_a - 1)\n",
    "    impr_a_prior = max(0.,beta_a + clicks_a_prior - 1)\n",
    "    \n",
    "    plot_prior(impr_a_prior,clicks_a_prior,mean_a)\n",
    "    plot_result(\n",
    "        impr_a+impr_a_prior,\n",
    "        clicks_a+clicks_a_prior,\n",
    "        impr_b+impr_a_prior,\n",
    "        clicks_b+clicks_a_prior)"
   ]
  },
  {
   "cell_type": "code",
   "execution_count": 531,
   "metadata": {
    "collapsed": true
   },
   "outputs": [],
   "source": [
    "slider_mean_a = widgets.FloatSlider(10,description='Prior CTR',min=0,max=100,width='100%',continuous_update=False)\n",
    "slider_std_a = widgets.FloatSlider(10,description='Prior STD',min=0,max=100,width='100%',continuous_update=False)\n",
    "\n",
    "text_impr_a = widgets.IntText(1000,description='Imprs A')\n",
    "text_clicks_a = widgets.IntText(100,description='Clicks A')\n",
    "text_impr_b = widgets.IntText(100,description='Imprs B')\n",
    "text_clicks_b = widgets.IntText(15,description='Clicks B')\n",
    "\n",
    "def toggle_no_prior(cb):\n",
    "    if cb['owner'].value:\n",
    "        slider_mean_a.value = 50\n",
    "        slider_std_a.value = 100\n",
    "        slider_mean_a.disabled = True\n",
    "        slider_std_a.disabled = True\n",
    "    else:\n",
    "        slider_mean_a.disabled = False\n",
    "        slider_std_a.disabled = False\n",
    "\n",
    "checkbox_no_prior = widgets.Checkbox(False,description='No Prior')\n",
    "checkbox_no_prior.observe(toggle_no_prior,'value')"
   ]
  },
  {
   "cell_type": "code",
   "execution_count": 532,
   "metadata": {
    "collapsed": false
   },
   "outputs": [
    {
     "data": {
      "image/png": "[encoded data removed]",
      "text/plain": [
       "<matplotlib.figure.Figure at 0x11b4bf690>"
      ]
     },
     "metadata": {},
     "output_type": "display_data"
    },
    {
     "data": {
      "image/png": "[encoded data removed]",
      "text/plain": [
       "<matplotlib.figure.Figure at 0x11b076750>"
      ]
     },
     "metadata": {},
     "output_type": "display_data"
    },
    {
     "name": "stdout",
     "output_type": "stream",
     "text": [
      "There is a 59% chance that B beats A\n"
     ]
    }
   ],
   "source": [
    "w=widgets.interactive(\n",
    "    plot_all,\n",
    "    mean_a=slider_mean_a,\n",
    "    std_a=slider_std_a,\n",
    "    impr_a=text_impr_a,\n",
    "    clicks_a=text_clicks_a,\n",
    "    impr_b=text_impr_b,\n",
    "    clicks_b=text_clicks_b)\n",
    "display(w)\n",
    "display(checkbox_no_prior)"
   ]
  },
  {
   "cell_type": "markdown",
   "metadata": {},
   "source": [
    "## References"
   ]
  },
  {
   "cell_type": "markdown",
   "metadata": {},
   "source": [
    "https://web.archive.org/web/20150419163005/http://www.bayesianwitch.com/blog/2014/bayesian_ab_test.html\n",
    "\n",
    "http://www.evanmiller.org/bayesian-ab-testing.html"
   ]
  },
  {
   "cell_type": "code",
   "execution_count": 248,
   "metadata": {
    "collapsed": false,
    "scrolled": false
   },
   "outputs": [
    {
     "data": {
      "text/html": [
       "<script>\n",
       "code_show=true; \n",
       "function code_toggle() {\n",
       " if (code_show){\n",
       " $('div.input').hide();\n",
       " } else {\n",
       " $('div.input').show();\n",
       " }\n",
       " code_show = !code_show\n",
       "} \n",
       "$( document ).ready(code_toggle);\n",
       "</script>\n",
       "<form action=\"javascript:code_toggle()\"><input type=\"submit\" value=\"Click here to toggle on/off the raw code.\"></form>"
      ],
      "text/plain": [
       "<IPython.core.display.HTML object>"
      ]
     },
     "execution_count": 248,
     "metadata": {},
     "output_type": "execute_result"
    }
   ],
   "source": [
    "from IPython.display import HTML\n",
    "\n",
    "HTML('''<script>\n",
    "code_show=true; \n",
    "function code_toggle() {\n",
    " if (code_show){\n",
    " $('div.input').hide();\n",
    " } else {\n",
    " $('div.input').show();\n",
    " }\n",
    " code_show = !code_show\n",
    "} \n",
    "$( document ).ready(code_toggle);\n",
    "</script>\n",
    "<form action=\"javascript:code_toggle()\"><input type=\"submit\" value=\"Click here to toggle on/off the raw code.\"></form>''')"
   ]
  },
  {
   "cell_type": "code",
   "execution_count": null,
   "metadata": {
    "collapsed": true
   },
   "outputs": [],
   "source": []
  }
 ],
 "metadata": {
  "kernelspec": {
   "display_name": "Python [Root]",
   "language": "python",
   "name": "Python [Root]"
  },
  "language_info": {
   "codemirror_mode": {
    "name": "ipython",
    "version": 2
   },
   "file_extension": ".py",
   "mimetype": "text/x-python",
   "name": "python",
   "nbconvert_exporter": "python",
   "pygments_lexer": "ipython2",
   "version": "2.7.12"
  },
  "widgets": {
   "state": {
    "d602b32d56f64aad834ec4d8057c8136": {
     "views": [
      {
       "cell_index": 8
      },
      {
       "cell_index": 18
      }
     ]
    }
   },
   "version": "1.2.0"
  }
 },
 "nbformat": 4,
 "nbformat_minor": 0
}
