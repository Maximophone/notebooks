{
 "cells": [
  {
   "cell_type": "code",
   "execution_count": 1,
   "metadata": {},
   "outputs": [
    {
     "name": "stderr",
     "output_type": "stream",
     "text": [
      "/Users/maximefournes/anaconda3/lib/python3.7/site-packages/tqdm/autonotebook.py:17: TqdmExperimentalWarning: Using `tqdm.autonotebook.tqdm` in notebook mode. Use `tqdm.tqdm` instead to force console mode (e.g. in jupyter console)\n",
      "  \" (e.g. in jupyter console)\", TqdmExperimentalWarning)\n"
     ]
    }
   ],
   "source": [
    "from itertools import permutations\n",
    "from tqdm.autonotebook import tqdm\n",
    "import math"
   ]
  },
  {
   "cell_type": "code",
   "execution_count": 42,
   "metadata": {},
   "outputs": [],
   "source": [
    "\"\"\"\n",
    " AB\n",
    "H  C\n",
    "G  D\n",
    " FE\n",
    "\"\"\"\n",
    "VERTICES = \"abcdefgh\"\n",
    "ROTATIONS = \"ac,bd,ce,df,eg,fh,ga,hb\"\n",
    "N_ROTATIONS = 4"
   ]
  },
  {
   "cell_type": "code",
   "execution_count": 7,
   "metadata": {},
   "outputs": [],
   "source": [
    "\"\"\"\n",
    " ABC\n",
    "L   D\n",
    "K   E\n",
    "J   F\n",
    " IHG\n",
    "\n",
    "\"\"\"\n",
    "\n",
    "VERTICES = \"abcdefghijkl\"\n",
    "ROTATIONS = \"ad,be,cf,dg,eh,fi,gj,hk,il,ja,kb,lc\"\n",
    "N_ROTATIONS = 4"
   ]
  },
  {
   "cell_type": "code",
   "execution_count": 44,
   "metadata": {},
   "outputs": [],
   "source": [
    "\"\"\"\n",
    "    .\n",
    "  d/ \\e\n",
    " c/   \\f\n",
    " |     |\n",
    "b|     |g\n",
    "a|     |h\n",
    " |     |\n",
    " l\\   /i\n",
    "  k\\ /j\n",
    "    .\n",
    "\"\"\"\n",
    "VERTICES = \"abcdefghijkl\"\n",
    "ROTATIONS = \"ac,bd,ce,df,eg,fh,gi,hj,ik,jl,ka,lb\"\n",
    "N_ROTATIONS = 6"
   ]
  },
  {
   "cell_type": "code",
   "execution_count": 54,
   "metadata": {},
   "outputs": [],
   "source": [
    "\"\"\"\n",
    " B C\n",
    "A   D\n",
    " F E\n",
    "\"\"\"\n",
    "\n",
    "VERTICES = \"abcdef\"\n",
    "ROTATIONS = \"ab,bc,de,de,ef,fa\"\n",
    "N_ROTATIONS = 6"
   ]
  },
  {
   "cell_type": "code",
   "execution_count": 56,
   "metadata": {},
   "outputs": [],
   "source": [
    "\"\"\"\n",
    "   .\n",
    " B. .C\n",
    "A.   .D\n",
    ".......\n",
    "  F E\n",
    "\"\"\"\n",
    "VERTICES = \"abcdef\"\n",
    "ROTATIONS = \"ab,bc,de,de,ef,fa\"\n",
    "N_ROTATIONS = 3"
   ]
  },
  {
   "cell_type": "code",
   "execution_count": 60,
   "metadata": {},
   "outputs": [],
   "source": [
    "VERTICES = \"abcdefghijklmnopqr\"\n",
    "ROTATIONS = \"ad,be,cf,dg,eh,fi,gj,hk,il,jm,kn,lo,mp,nq,or\"\n",
    "N_ROTATIONS = 6"
   ]
  },
  {
   "cell_type": "code",
   "execution_count": null,
   "metadata": {},
   "outputs": [
    {
     "data": {
      "application/vnd.jupyter.widget-view+json": {
       "model_id": "4e02312a4b10467389a03eac1f7d1bed",
       "version_major": 2,
       "version_minor": 0
      },
      "text/plain": [
       "HBox(children=(IntProgress(value=1, bar_style='info', max=1), HTML(value='')))"
      ]
     },
     "metadata": {},
     "output_type": "display_data"
    }
   ],
   "source": [
    "def gen_permuts(vertices, verbose=True):\n",
    "    if len(vertices) == 0:\n",
    "        return []\n",
    "    if len(vertices) == 2:\n",
    "        return [[(vertices[0], vertices[1])]]\n",
    "    permuts = []\n",
    "    v0, remaining = vertices[0], vertices[1:]\n",
    "    for i, v1 in tqdm(enumerate(remaining), disable=not verbose):\n",
    "        permuts.extend([[(v0, v1)] + perm for perm in gen_permuts(remaining[:i]+remaining[i+1:], verbose=False)])\n",
    "    return permuts\n",
    "            \n",
    "\n",
    "rotations = dict(ROTATIONS.split(\",\"))\n",
    "\n",
    "def rotate_vertex(v, rotations=rotations):\n",
    "    return rotations.get(v)\n",
    "\n",
    "\n",
    "class Tile:\n",
    "    def __init__(self, edge_map):\n",
    "        self.edge_map = edge_map\n",
    "    \n",
    "    def rotate(self):\n",
    "        new_edges = {}\n",
    "        for v in VERTICES:\n",
    "            rot_v = rotate_vertex(v)\n",
    "            con_v = self.edge_map.get(v)\n",
    "            unrot_v = rotate_vertex(con_v)\n",
    "            new_edges[rot_v] = unrot_v\n",
    "        return Tile(new_edges)\n",
    "\n",
    "    def iter_rotations(self):\n",
    "        tile = self.rotate()\n",
    "        for i in range(N_ROTATIONS):\n",
    "            tile = tile.rotate()\n",
    "            yield tile\n",
    "    \n",
    "    def hash_for_fixed_rot(self):\n",
    "        return hash(str(self.edge_map))\n",
    "    \n",
    "    def is_valid(self):\n",
    "        for v in VERTICES:\n",
    "            connected_to_v = self.edge_map.get(v)\n",
    "            connected_to_connected_to_v = self.edge_map.get(connected_to_v)\n",
    "            if v != connected_to_connected_to_v or connected_to_v == v:\n",
    "                return False\n",
    "        return True\n",
    "    \n",
    "    def __repr__(self):\n",
    "        mems = [f\"{k}->{v}\" for k, v in self.edge_map.items()]\n",
    "        return f\"Tile({mems})\"\n",
    "    \n",
    "    def __hash__(self):\n",
    "        hashes = [tile.hash_for_fixed_rot() for tile in self.iter_rotations()]\n",
    "        return min(hashes)\n",
    "\n",
    "    \n",
    "all_tiles = {}\n",
    "\n",
    "all_permuts = gen_permuts(VERTICES)\n",
    "for perm in tqdm(all_permuts):\n",
    "    emap = dict(perm+[(v1, v0) for v0, v1 in perm])\n",
    "    tile = Tile(emap)\n",
    "    if tile.is_valid():\n",
    "        all_tiles[hash(tile)] = tile\n",
    "        \n",
    "len(all_tiles)"
   ]
  },
  {
   "cell_type": "code",
   "execution_count": null,
   "metadata": {},
   "outputs": [],
   "source": []
  }
 ],
 "metadata": {
  "kernelspec": {
   "display_name": "Python 3",
   "language": "python",
   "name": "python3"
  },
  "language_info": {
   "codemirror_mode": {
    "name": "ipython",
    "version": 3
   },
   "file_extension": ".py",
   "mimetype": "text/x-python",
   "name": "python",
   "nbconvert_exporter": "python",
   "pygments_lexer": "ipython3",
   "version": "3.7.4"
  }
 },
 "nbformat": 4,
 "nbformat_minor": 2
}
