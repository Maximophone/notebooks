{
 "cells": [
  {
   "cell_type": "code",
   "execution_count": 1,
   "metadata": {},
   "outputs": [],
   "source": [
    "import numpy as np"
   ]
  },
  {
   "cell_type": "code",
   "execution_count": 2,
   "metadata": {},
   "outputs": [],
   "source": [
    "import matplotlib.pyplot as plt\n",
    "%matplotlib inline"
   ]
  },
  {
   "cell_type": "code",
   "execution_count": 3,
   "metadata": {},
   "outputs": [],
   "source": [
    "def f_levels(x, levels=None):\n",
    "    if levels is None:\n",
    "        levels = [\n",
    "            (0.1, 0.1),\n",
    "            (0.7, 0.6),\n",
    "            (0.8, 0.8)\n",
    "        ]\n",
    "    for thre, level in levels:\n",
    "        if x < thre:\n",
    "            return level\n",
    "    return 1\n",
    "\n",
    "def f_discrete(x, n_levels=5):\n",
    "    r = np.linspace(0, 1, n_levels)\n",
    "    for y in r:\n",
    "        if x < y:\n",
    "            return y\n",
    "    return 1\n",
    "\n",
    "def f(x):\n",
    "    return 4*x**3 - 6*x**2 + 3*x"
   ]
  },
  {
   "cell_type": "code",
   "execution_count": 4,
   "metadata": {},
   "outputs": [],
   "source": [
    "imsize = (32, 32)"
   ]
  },
  {
   "cell_type": "code",
   "execution_count": 5,
   "metadata": {},
   "outputs": [],
   "source": [
    "x0, y0 = center = (15.5, 15.5)"
   ]
  },
  {
   "cell_type": "code",
   "execution_count": 6,
   "metadata": {},
   "outputs": [],
   "source": [
    "r = radius = 10\n",
    "r2 = r**2"
   ]
  },
  {
   "cell_type": "code",
   "execution_count": 7,
   "metadata": {},
   "outputs": [],
   "source": [
    "light = np.array([-1, 1, 3])\n",
    "light = v = vx, vy, vz = light/np.linalg.norm(light)"
   ]
  },
  {
   "cell_type": "code",
   "execution_count": 8,
   "metadata": {},
   "outputs": [],
   "source": [
    "sphere_col = (.8, 0.2, 0.2)\n",
    "light_col = (1., 0.5, 1.)"
   ]
  },
  {
   "cell_type": "code",
   "execution_count": 10,
   "metadata": {},
   "outputs": [],
   "source": [
    "def get_h2(x, y, x0, y0, r2):\n",
    "    return r2 - (x-x0)**2 - (y-y0)**2"
   ]
  },
  {
   "cell_type": "code",
   "execution_count": 11,
   "metadata": {},
   "outputs": [
    {
     "name": "stderr",
     "output_type": "stream",
     "text": [
      "Clipping input data to the valid range for imshow with RGB data ([0..1] for floats or [0..255] for integers).\n"
     ]
    },
    {
     "data": {
      "text/plain": [
       "<matplotlib.image.AxesImage at 0x7fb8c28df438>"
      ]
     },
     "execution_count": 11,
     "metadata": {},
     "output_type": "execute_result"
    },
    {
     "data": {
      "image/png": "[encoded data removed]",
      "text/plain": [
       "<Figure size 432x288 with 1 Axes>"
      ]
     },
     "metadata": {
      "needs_background": "light"
     },
     "output_type": "display_data"
    }
   ],
   "source": [
    "levels = [\n",
    "    (0.15, 0.15),\n",
    "    (0.3, 0.3),\n",
    "    (0.75, 0.6),\n",
    "    (0.97, 0.9)\n",
    "]\n",
    "\n",
    "levels = [\n",
    "    (0.93, 0),\n",
    "    (0.99, 0.2),\n",
    "    (1., 0.4)\n",
    "]\n",
    "\n",
    "X = np.zeros((*imsize, 3))\n",
    "for x, row in enumerate(X):\n",
    "    for y, _ in enumerate(row):\n",
    "        h2 = get_h2(x, y, x0, y0, r2)\n",
    "        if h2 < 0:\n",
    "            continue\n",
    "        h = np.sqrt(h2)\n",
    "        dot = np.dot((x-x0, y-y0, h), v)/r\n",
    "        level_mat = f_discrete(dot, 4)# f_levels(dot, levels)#f_levels(dot, levels)\n",
    "        level_spec = f_levels(dot, levels)\n",
    "        if dot < 0:\n",
    "            continue\n",
    "        X[x, y] = [\n",
    "            level_mat*sphere_col[0] + level_spec*light_col[0],\n",
    "            level_mat*sphere_col[1] + level_spec*light_col[1],\n",
    "            level_mat*sphere_col[2] + level_spec*light_col[2]]\n",
    "            \n",
    "\n",
    "plt.imshow(X)"
   ]
  },
  {
   "cell_type": "markdown",
   "metadata": {},
   "source": [
    "# Multiple spheres and interpolation"
   ]
  },
  {
   "cell_type": "code",
   "execution_count": null,
   "metadata": {},
   "outputs": [],
   "source": []
  }
 ],
 "metadata": {
  "kernelspec": {
   "display_name": "Python 3",
   "language": "python",
   "name": "python3"
  },
  "language_info": {
   "codemirror_mode": {
    "name": "ipython",
    "version": 3
   },
   "file_extension": ".py",
   "mimetype": "text/x-python",
   "name": "python",
   "nbconvert_exporter": "python",
   "pygments_lexer": "ipython3",
   "version": "3.7.3"
  }
 },
 "nbformat": 4,
 "nbformat_minor": 2
}
